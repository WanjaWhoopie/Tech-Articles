{
 "cells": [
  {
   "cell_type": "markdown",
   "metadata": {},
   "source": [
    "# Introduction"
   ]
  },
  {
   "cell_type": "markdown",
   "metadata": {},
   "source": [
    "Lists are useful in different ways compared to other datatypes especially because of how versatile they are. We are going to learn how to get index of an item in a list in different contexts. We will use the following list in this tutorial. \n"
   ]
  },
  {
   "cell_type": "code",
   "execution_count": 7,
   "metadata": {},
   "outputs": [],
   "source": [
    "myList = ['a', 'b', 'c', 'd', 'e', '1', '2', '3', 'b']"
   ]
  },
  {
   "cell_type": "markdown",
   "metadata": {},
   "source": [
    "# Using the index() method"
   ]
  },
  {
   "cell_type": "markdown",
   "metadata": {},
   "source": [
    "Let us checkout the index() method for this instance. The syntax of the index method is: list_name.index(element, start, end) \n",
    "\n",
    "element: this is the actual element in the list you are looking for\n",
    "start: this is the position from which you want the search to begin\n",
    "end: this is the position where the search ends\n",
    "\n",
    "In the following example we are looking for element 2 between the 2nd and 8th position. Remember we start counting from zero."
   ]
  },
  {
   "cell_type": "code",
   "execution_count": 2,
   "metadata": {
    "scrolled": true
   },
   "outputs": [
    {
     "name": "stdout",
     "output_type": "stream",
     "text": [
      "The index is:  6\n"
     ]
    }
   ],
   "source": [
    "index = myList.index('2', 2, 8)\n",
    "print (\"The index is: \", index)"
   ]
  },
  {
   "cell_type": "markdown",
   "metadata": {},
   "source": [
    "You do not have to use the start and end though. You could write it as: list_name.index(element) which will search through the whole list until it gets the first instance of the element you are looking for. Other elements after are ignored."
   ]
  },
  {
   "cell_type": "code",
   "execution_count": 3,
   "metadata": {},
   "outputs": [
    {
     "name": "stdout",
     "output_type": "stream",
     "text": [
      "The index is:  2\n"
     ]
    }
   ],
   "source": [
    "index = myList.index('c')\n",
    "print (\"The index is: \", index)"
   ]
  },
  {
   "cell_type": "markdown",
   "metadata": {},
   "source": [
    "There may be several occurrences of the element you are looking for and you may need to get the last position of the element. To get the last occurrence of the element you are looking for you may decide to first do list_name.reverse() then use the index method but this just gives the index of the element counting the last as first. Look at the following example that makes use of slicing."
   ]
  },
  {
   "cell_type": "code",
   "execution_count": 14,
   "metadata": {},
   "outputs": [
    {
     "name": "stdout",
     "output_type": "stream",
     "text": [
      "Last index of b is:  8\n"
     ]
    }
   ],
   "source": [
    "index= len(myList) - myList[::-1].index('b')-1\n",
    "print(\"Last index of b is: \", index)"
   ]
  },
  {
   "cell_type": "markdown",
   "metadata": {},
   "source": [
    "You may also need to find all the positions of the element in the list at once. This example does not use the index method but uses range. "
   ]
  },
  {
   "cell_type": "code",
   "execution_count": 5,
   "metadata": {},
   "outputs": [
    {
     "name": "stdout",
     "output_type": "stream",
     "text": [
      "Indexes of all occurrences of \"b\" in the list are :  [1, 8]\n"
     ]
    }
   ],
   "source": [
    "index= [ i for i in range(len(myList)) if myList[i] == 'b' ]\n",
    "\n",
    "print('Indexes of all occurrences of \"b\" in the list are : ', index)"
   ]
  },
  {
   "cell_type": "markdown",
   "metadata": {},
   "source": [
    "You can also use the enumerate method."
   ]
  },
  {
   "cell_type": "code",
   "execution_count": 13,
   "metadata": {},
   "outputs": [
    {
     "name": "stdout",
     "output_type": "stream",
     "text": [
      "Indexes of all occurrences of \"b\" in the list are :  [1, 8]\n"
     ]
    }
   ],
   "source": [
    "index = [i for i,x in enumerate(myList) if x == 'b']\n",
    "print('Indexes of all occurrences of \"b\" in the list are : ', index)"
   ]
  },
  {
   "cell_type": "markdown",
   "metadata": {},
   "source": [
    "If the item you are looking for is not in the list you will get an error message and the program stops. To counter this we are going to throw an exception so it just prints the error message but does not give an error. This is especially useful when it is part of a bigger program."
   ]
  },
  {
   "cell_type": "code",
   "execution_count": 11,
   "metadata": {},
   "outputs": [
    {
     "name": "stdout",
     "output_type": "stream",
     "text": [
      "'z' is not in list\n"
     ]
    }
   ],
   "source": [
    "try:\n",
    "    index = myList.index('z')\n",
    "    print (\"The index is: \", index)\n",
    "except ValueError as err:\n",
    "    print(err)"
   ]
  },
  {
   "cell_type": "markdown",
   "metadata": {},
   "source": [
    "# Conclusion"
   ]
  },
  {
   "cell_type": "markdown",
   "metadata": {},
   "source": [
    "We have learnt how to use the index method to find the first and last occurrence of an element in a list. We have also learnt how to list all occurrences of the element and how to catch an error if element is not in the list. Happy coding! "
   ]
  }
 ],
 "metadata": {
  "kernelspec": {
   "display_name": "Python 3",
   "language": "python",
   "name": "python3"
  },
  "language_info": {
   "codemirror_mode": {
    "name": "ipython",
    "version": 3
   },
   "file_extension": ".py",
   "mimetype": "text/x-python",
   "name": "python",
   "nbconvert_exporter": "python",
   "pygments_lexer": "ipython3",
   "version": "3.8.3"
  }
 },
 "nbformat": 4,
 "nbformat_minor": 4
}
