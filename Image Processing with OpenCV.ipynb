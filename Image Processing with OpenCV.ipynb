{
 "cells": [
  {
   "cell_type": "markdown",
   "metadata": {},
   "source": [
    "# Introduction"
   ]
  },
  {
   "cell_type": "markdown",
   "metadata": {},
   "source": [
    "The history of image processing dates back to the 1960s with people doing research at Bell Technologies, Jet Propulsion Laboratory, Massachusetts Institute of Technology, University of Maryland, and a few other research facilities. In 1966 English molecular biologist Aaron Klug at the University of Cambridge formulated a method for digital image processing of two-dimensional images. In this article we will learn the basics of image processing with OpenCv. We shall assume that you know the basics of Python and have already installed it on your computer. \n",
    "\n",
    "To install opencv write the following command:"
   ]
  },
  {
   "cell_type": "code",
   "execution_count": null,
   "metadata": {},
   "outputs": [],
   "source": [
    "In windows\n",
    "pip install opencv-python\n",
    "\n",
    "In linux\n",
    "sudo apt-get install libopencv-dev python-opencv\n",
    "\n",
    "In mac\n",
    "brew install opencv3 --with-contrib --with-python3"
   ]
  },
  {
   "cell_type": "markdown",
   "metadata": {},
   "source": [
    "After the installation is done we need to import the CV2 module in our project. If you get no errors then you are good to go.\n"
   ]
  },
  {
   "cell_type": "code",
   "execution_count": 1,
   "metadata": {},
   "outputs": [],
   "source": [
    "import cv2"
   ]
  },
  {
   "cell_type": "markdown",
   "metadata": {},
   "source": [
    "# Read the Image"
   ]
  },
  {
   "cell_type": "markdown",
   "metadata": {},
   "source": [
    "We will use the imread() method to read the image.The syntax is: cv2.imread(path, flag). There are three types of flags. The first is cv2.IMREAD_COLOR which species that the image should be read in color and any transparency is neglected. Instead of writing the whole word you can just use the number 1. The second is cv2.IMREAD_GRAYSCALE which can be replaced by 0 and specifies that the image loaded should be in gray scale. The third one is cv2.IMREAD_UNCHANGED whose alternative is -1. It specifies to load an image as it is including its alpha channel. An alpha channel is essentially the component in color that defines opacity by determining how a pixel is rendere when blended with another. If you do not set up a flag the default is 1.  \n",
    "\n",
    "Store the image read in a variable to be able to access it easily. The variable is now a matrix. You can view it by printing the variable. If the image is not found or the format is invalid it will return an empty matrix. "
   ]
  },
  {
   "cell_type": "code",
   "execution_count": 3,
   "metadata": {},
   "outputs": [
    {
     "name": "stdout",
     "output_type": "stream",
     "text": [
      "[[[251 250 246]\n",
      "  [251 250 246]\n",
      "  [251 250 246]\n",
      "  ...\n",
      "  [244 172 165]\n",
      "  [235 165 158]\n",
      "  [240 170 163]]\n",
      "\n",
      " [[251 250 246]\n",
      "  [251 250 246]\n",
      "  [251 250 246]\n",
      "  ...\n",
      "  [242 170 162]\n",
      "  [238 166 158]\n",
      "  [241 172 163]]\n",
      "\n",
      " [[251 250 246]\n",
      "  [251 250 246]\n",
      "  [251 250 246]\n",
      "  ...\n",
      "  [245 173 161]\n",
      "  [245 173 161]\n",
      "  [241 170 160]]\n",
      "\n",
      " ...\n",
      "\n",
      " [[ 23  20  16]\n",
      "  [ 25  22  18]\n",
      "  [ 22  19  15]\n",
      "  ...\n",
      "  [ 38  30  23]\n",
      "  [ 38  30  23]\n",
      "  [ 38  30  23]]\n",
      "\n",
      " [[ 23  20  16]\n",
      "  [ 25  22  18]\n",
      "  [ 22  19  15]\n",
      "  ...\n",
      "  [ 38  30  23]\n",
      "  [ 38  30  23]\n",
      "  [ 38  30  23]]\n",
      "\n",
      " [[ 21  19  18]\n",
      "  [ 23  21  20]\n",
      "  [ 20  19  15]\n",
      "  ...\n",
      "  [ 38  30  23]\n",
      "  [ 38  30  23]\n",
      "  [ 38  30  23]]]\n"
     ]
    }
   ],
   "source": [
    "img = cv2.imread(\"image 1.jpg\")\n",
    "print (img)"
   ]
  },
  {
   "cell_type": "markdown",
   "metadata": {},
   "source": [
    "To view the image we will use imshow(). On the waitkey you enter the waiting time in milliseconds you need the image to show before it disappears. If you use 0, you will need to end the image display manually."
   ]
  },
  {
   "cell_type": "code",
   "execution_count": null,
   "metadata": {},
   "outputs": [],
   "source": [
    "cv2.imshow('My Image', img) \n",
    "\n",
    "cv2.waitKey(0)"
   ]
  },
  {
   "cell_type": "markdown",
   "metadata": {},
   "source": [
    "# Crop Image"
   ]
  },
  {
   "cell_type": "markdown",
   "metadata": {},
   "source": [
    "We will now learn how to crop an image. First we find the dimensions of the image. This helps know the height and width of the image so as we fit the dimensions of the new image within a range. You will see that with the use of a variable we do not need to keep reading the image again to perform a new action."
   ]
  },
  {
   "cell_type": "code",
   "execution_count": 6,
   "metadata": {},
   "outputs": [
    {
     "name": "stdout",
     "output_type": "stream",
     "text": [
      "(3963, 5000, 3)\n"
     ]
    }
   ],
   "source": [
    "print(img.shape)"
   ]
  },
  {
   "cell_type": "markdown",
   "metadata": {},
   "source": [
    "The three digits represent the height, width and channels respectively. Do notte that if the image was in grayscale, the tuple returned would contain only the number of rows and columns. The cropping is performed in the form of slicing. The cropping starts from a position x,y to another position h,w. This is the syntax: croppedImage = img[startRow:endRow, startCol:endCol]"
   ]
  },
  {
   "cell_type": "code",
   "execution_count": 7,
   "metadata": {},
   "outputs": [
    {
     "data": {
      "text/plain": [
       "-1"
      ]
     },
     "execution_count": 7,
     "metadata": {},
     "output_type": "execute_result"
    }
   ],
   "source": [
    "y=1000\n",
    "x=1000\n",
    "h=2000\n",
    "w=2000\n",
    "\n",
    "img_cropped = img[x:w, y:h]\n",
    "\n",
    "cv2.imshow('Cropped Image', img_cropped) \n",
    "\n",
    "cv2.waitKey(0)"
   ]
  },
  {
   "cell_type": "markdown",
   "metadata": {},
   "source": [
    "# Resize Image"
   ]
  },
  {
   "cell_type": "markdown",
   "metadata": {},
   "source": [
    "We shall use the function cv2.resize(). In the example we are going to give we will not pay attention to aspect ratio but just randomly change the height and width. It is possible to change height only or width only.\n",
    "\n",
    "The syntax is as follows: cv2.resize(src, d[, dst[, fx[, fy[, interpolation]]]]). The first two arguments are required. This is what they represent:\n",
    "'src' shows the path to the image\n",
    "'d' stands for the desired size or dimensions\n",
    "'fx' shows scale factor on the horizontal axis\n",
    "'fy' shows scale factor on the y axis\n",
    "'interpolation' is used for image decimation \n",
    "\n",
    "(Could be INTER_NEAREST – a nearest-neighbor interpolation, INTER_LINEAR – a bilinear interpolation (used by default), INTER_AREA – resampling using pixel area relation, INTER_CUBIC – a bicubic interpolation over 4×4 pixel neighborhood, INTER_LANCZOS4 – a Lanczos interpolation over 8×8 pixel neighborhood.)"
   ]
  },
  {
   "cell_type": "code",
   "execution_count": 8,
   "metadata": {},
   "outputs": [
    {
     "data": {
      "text/plain": [
       "-1"
      ]
     },
     "execution_count": 8,
     "metadata": {},
     "output_type": "execute_result"
    }
   ],
   "source": [
    "width = 3000\n",
    "height = 2000\n",
    "d = (width, height)\n",
    "\n",
    "img_resized = cv2.resize(img, d, interpolation = cv2.INTER_AREA)\n",
    "\n",
    "cv2.imshow('Resized Image', img_resized) \n",
    "\n",
    "cv2.waitKey(0)"
   ]
  },
  {
   "cell_type": "markdown",
   "metadata": {},
   "source": [
    "# Make Image Blurry"
   ]
  },
  {
   "cell_type": "markdown",
   "metadata": {},
   "source": [
    "You have to note though that too much noise reduction will end up with a plastic like image that is far worse than an image that is a little grainy. Contarry to popular opinion actually, noise isn't always so bad. A lot of photographers documenting something like war use noise to add some bit of character.\n",
    "\n",
    "There are many ways of blurring an image. The default one is called averaging and the method used takes in the image source and kernel size as parameters. There are other types of blurring like gaussian blurring, bilateral filtering, and median blurring which we won't dive into at the moment. "
   ]
  },
  {
   "cell_type": "code",
   "execution_count": 13,
   "metadata": {},
   "outputs": [
    {
     "data": {
      "text/plain": [
       "-1"
      ]
     },
     "execution_count": 13,
     "metadata": {},
     "output_type": "execute_result"
    }
   ],
   "source": [
    "img_averaging = cv2.blur(img,(100,100))\n",
    "\n",
    "cv2.imshow('Resized Image', img_averaging) \n",
    "\n",
    "cv2.waitKey(0)"
   ]
  },
  {
   "cell_type": "markdown",
   "metadata": {},
   "source": [
    "# Reduce Noise from Image"
   ]
  },
  {
   "cell_type": "markdown",
   "metadata": {},
   "source": [
    "Sometimes you may have an image that is grainy and not so clear. We can use openCV to help reduce noise on the image.  Let us see how to remove noise for when the need arises.\n",
    "\n",
    "In applications like image segmentation, image classification, image regisstration and many others, denoising plays a big role. It helps remove unwanted and unavoidable noise. The main types of noise are salt and pepper and gaussian. We will perform an implementation of Non-local Means Denoising algorithm. \n",
    "\n",
    "In OpenCV there are four variations of this technique:\n",
    "1. cv.fastNlMeansDenoising() - works with a single grayscale images\n",
    "2. cv.fastNlMeansDenoisingColored() - works with a color image.\n",
    "3. cv.fastNlMeansDenoisingMulti() - works with image sequence captured in short period of time (grayscale images)\n",
    "4. cv.fastNlMeansDenoisingColoredMulti() - same as above, but for color images.\n",
    "\n",
    "This is how the method is defined:\n",
    " cv2.fastNlMeansDenoisingColored(src[, dst[, h[, hColor[, templateWindowSize[, searchWindowSize]]]]])\n",
    " \n",
    "We shall explain the parameters. \n",
    "'src' -image we seek to denoise\n",
    "'dst' -defines output image with the same size and type as what we have in src\n",
    "'h' -determines filter strength. The higher it is the more noise can be removed but on the downside the more detail that can be removed from the image\n",
    "'hColor' -same as h but for color components only\n",
    "'templateWindowSize' -size of template patch used to compute weights that is written in odd numbers\n",
    "'searchWindowSize' -also an odd number, used to compute average of given pixel\n"
   ]
  },
  {
   "cell_type": "code",
   "execution_count": 17,
   "metadata": {},
   "outputs": [
    {
     "data": {
      "text/plain": [
       "-1"
      ]
     },
     "execution_count": 17,
     "metadata": {},
     "output_type": "execute_result"
    }
   ],
   "source": [
    "img2 = cv2.imread(\"image 2.jpg\")\n",
    "dst = cv2.fastNlMeansDenoisingColored(img2,None,10,10,7,21)\n",
    "\n",
    "cv2.imshow('Denoised Image', img2) \n",
    "\n",
    "cv2.waitKey(0)"
   ]
  },
  {
   "cell_type": "markdown",
   "metadata": {},
   "source": [
    "# Conclusion"
   ]
  },
  {
   "cell_type": "markdown",
   "metadata": {},
   "source": [
    "We now have a few tricks up our sleeves when it comes to OpenCV and image manipulation. I hope this tutorial has given you a good basic foundation and tickled your curiosity enough that you are going to check out more advanced things you can do with OpenCV. Practice more to understand the why of anything you input. Happy coding."
   ]
  }
 ],
 "metadata": {
  "kernelspec": {
   "display_name": "Python 3",
   "language": "python",
   "name": "python3"
  },
  "language_info": {
   "codemirror_mode": {
    "name": "ipython",
    "version": 3
   },
   "file_extension": ".py",
   "mimetype": "text/x-python",
   "name": "python",
   "nbconvert_exporter": "python",
   "pygments_lexer": "ipython3",
   "version": "3.8.3"
  }
 },
 "nbformat": 4,
 "nbformat_minor": 4
}
